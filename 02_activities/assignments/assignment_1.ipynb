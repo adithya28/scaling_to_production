{
 "cells": [
  {
   "cell_type": "markdown",
   "metadata": {},
   "source": [
    "# Working with parquet files\n",
    "\n",
    "## Objective\n",
    "\n",
    "+ In this assignment, we will use the data downloaded with the module `data_manager` to create features.\n",
    "\n",
    "(11 pts total)\n",
    "\n",
    "## Prerequisites\n",
    "\n",
    "+ This notebook assumes that price data is available to you in the environment variable `PRICE_DATA`. If you have not done so, then execute the notebook `production_2_data_engineering.ipynb` to create this data set.\n"
   ]
  },
  {
   "cell_type": "markdown",
   "metadata": {},
   "source": [
    "+ Load the environment variables using dotenv. (1 pt)"
   ]
  },
  {
   "cell_type": "code",
   "execution_count": 1,
   "metadata": {
    "ExecuteTime": {
     "end_time": "2024-07-09T00:47:40.900520700Z",
     "start_time": "2024-07-09T00:47:40.887404500Z"
    }
   },
   "outputs": [
    {
     "data": {
      "text/plain": "True"
     },
     "execution_count": 1,
     "metadata": {},
     "output_type": "execute_result"
    }
   ],
   "source": [
    "# Write your code below.\n",
    "from dotenv import load_dotenv\n",
    "load_dotenv(dotenv_path='../../01_materials/labs/.env')\n",
    "\n",
    "\n"
   ]
  },
  {
   "cell_type": "code",
   "execution_count": 2,
   "metadata": {
    "ExecuteTime": {
     "end_time": "2024-07-09T00:47:41.999129200Z",
     "start_time": "2024-07-09T00:47:40.902025900Z"
    }
   },
   "outputs": [],
   "source": [
    "import dask\n",
    "dask.config.set({'dataframe.query-planning': True})\n",
    "import dask.dataframe as dd"
   ]
  },
  {
   "cell_type": "markdown",
   "metadata": {},
   "source": [
    "+ Load the environment variable `PRICE_DATA`.\n",
    "+ Use [glob](https://docs.python.org/3/library/glob.html) to find the path of all parquet files in the directory `PRICE_DATA`.\n",
    "\n",
    "(1pt)"
   ]
  },
  {
   "cell_type": "code",
   "execution_count": 3,
   "metadata": {
    "ExecuteTime": {
     "end_time": "2024-07-09T00:47:43.824509Z",
     "start_time": "2024-07-09T00:47:42.001128300Z"
    }
   },
   "outputs": [
    {
     "data": {
      "text/plain": "              Date        Open        High         Low       Close  \\\n0       2000-01-03   16.625000   16.812500   16.125000   16.500000   \n1       2000-01-04   16.562500   17.125000   16.250000   17.062500   \n2       2000-01-05   17.000000   17.937500   17.000000   17.937500   \n3       2000-01-06   17.937500   17.937500   17.625000   17.812500   \n4       2000-01-07   17.875000   17.937500   17.312500   17.625000   \n...            ...         ...         ...         ...         ...   \n2742198 2024-06-28  149.639999  149.639999  147.940002  149.039993   \n2742199 2024-07-01  149.550003  150.070007  147.050003  147.139999   \n2742200 2024-07-02  146.770004  149.460007  146.770004  149.389999   \n2742201 2024-07-03  149.419998  149.970001  148.160004  148.789993   \n2742202 2024-07-05  149.080002  150.570007  148.130005  150.509995   \n\n          Adj Close   Volume      sector  \\\n0          5.365692   419600   Utilities   \n1          5.548609   623100   Utilities   \n2          5.833158   310400   Utilities   \n3          5.792508   283700   Utilities   \n4          5.731534   225100   Utilities   \n...             ...      ...         ...   \n2742198  149.039993  3926000  Financials   \n2742199  147.139999  1572800  Financials   \n2742200  149.389999  1480400  Financials   \n2742201  148.789993  1142600  Financials   \n2742202  150.509995  1684500  Financials   \n\n                                         subsector  year  Close_lag_1  \\\n0                               Electric Utilities  2000     9.900000   \n1                               Electric Utilities  2000    16.500000   \n2                               Electric Utilities  2000    17.062500   \n3                               Electric Utilities  2000    17.937500   \n4                               Electric Utilities  2000    17.812500   \n...                                            ...   ...          ...   \n2742198  Transaction & Payment Processing Services  2024   149.080002   \n2742199  Transaction & Payment Processing Services  2024   149.039993   \n2742200  Transaction & Payment Processing Services  2024   147.139999   \n2742201  Transaction & Payment Processing Services  2024   149.389999   \n2742202  Transaction & Payment Processing Services  2024   148.789993   \n\n          returns  positive_return  target  \n0        0.666667                1     1.0  \n1        0.034091                1     1.0  \n2        0.051282                1     0.0  \n3       -0.006969                0     0.0  \n4       -0.010526                0     0.0  \n...           ...              ...     ...  \n2742198 -0.000268                0     0.0  \n2742199 -0.012748                0     1.0  \n2742200  0.015292                1     0.0  \n2742201 -0.004016                0     1.0  \n2742202  0.011560                1     NaN  \n\n[2742203 rows x 14 columns]",
      "text/html": "<div>\n<style scoped>\n    .dataframe tbody tr th:only-of-type {\n        vertical-align: middle;\n    }\n\n    .dataframe tbody tr th {\n        vertical-align: top;\n    }\n\n    .dataframe thead th {\n        text-align: right;\n    }\n</style>\n<table border=\"1\" class=\"dataframe\">\n  <thead>\n    <tr style=\"text-align: right;\">\n      <th></th>\n      <th>Date</th>\n      <th>Open</th>\n      <th>High</th>\n      <th>Low</th>\n      <th>Close</th>\n      <th>Adj Close</th>\n      <th>Volume</th>\n      <th>sector</th>\n      <th>subsector</th>\n      <th>year</th>\n      <th>Close_lag_1</th>\n      <th>returns</th>\n      <th>positive_return</th>\n      <th>target</th>\n    </tr>\n  </thead>\n  <tbody>\n    <tr>\n      <th>0</th>\n      <td>2000-01-03</td>\n      <td>16.625000</td>\n      <td>16.812500</td>\n      <td>16.125000</td>\n      <td>16.500000</td>\n      <td>5.365692</td>\n      <td>419600</td>\n      <td>Utilities</td>\n      <td>Electric Utilities</td>\n      <td>2000</td>\n      <td>9.900000</td>\n      <td>0.666667</td>\n      <td>1</td>\n      <td>1.0</td>\n    </tr>\n    <tr>\n      <th>1</th>\n      <td>2000-01-04</td>\n      <td>16.562500</td>\n      <td>17.125000</td>\n      <td>16.250000</td>\n      <td>17.062500</td>\n      <td>5.548609</td>\n      <td>623100</td>\n      <td>Utilities</td>\n      <td>Electric Utilities</td>\n      <td>2000</td>\n      <td>16.500000</td>\n      <td>0.034091</td>\n      <td>1</td>\n      <td>1.0</td>\n    </tr>\n    <tr>\n      <th>2</th>\n      <td>2000-01-05</td>\n      <td>17.000000</td>\n      <td>17.937500</td>\n      <td>17.000000</td>\n      <td>17.937500</td>\n      <td>5.833158</td>\n      <td>310400</td>\n      <td>Utilities</td>\n      <td>Electric Utilities</td>\n      <td>2000</td>\n      <td>17.062500</td>\n      <td>0.051282</td>\n      <td>1</td>\n      <td>0.0</td>\n    </tr>\n    <tr>\n      <th>3</th>\n      <td>2000-01-06</td>\n      <td>17.937500</td>\n      <td>17.937500</td>\n      <td>17.625000</td>\n      <td>17.812500</td>\n      <td>5.792508</td>\n      <td>283700</td>\n      <td>Utilities</td>\n      <td>Electric Utilities</td>\n      <td>2000</td>\n      <td>17.937500</td>\n      <td>-0.006969</td>\n      <td>0</td>\n      <td>0.0</td>\n    </tr>\n    <tr>\n      <th>4</th>\n      <td>2000-01-07</td>\n      <td>17.875000</td>\n      <td>17.937500</td>\n      <td>17.312500</td>\n      <td>17.625000</td>\n      <td>5.731534</td>\n      <td>225100</td>\n      <td>Utilities</td>\n      <td>Electric Utilities</td>\n      <td>2000</td>\n      <td>17.812500</td>\n      <td>-0.010526</td>\n      <td>0</td>\n      <td>0.0</td>\n    </tr>\n    <tr>\n      <th>...</th>\n      <td>...</td>\n      <td>...</td>\n      <td>...</td>\n      <td>...</td>\n      <td>...</td>\n      <td>...</td>\n      <td>...</td>\n      <td>...</td>\n      <td>...</td>\n      <td>...</td>\n      <td>...</td>\n      <td>...</td>\n      <td>...</td>\n      <td>...</td>\n    </tr>\n    <tr>\n      <th>2742198</th>\n      <td>2024-06-28</td>\n      <td>149.639999</td>\n      <td>149.639999</td>\n      <td>147.940002</td>\n      <td>149.039993</td>\n      <td>149.039993</td>\n      <td>3926000</td>\n      <td>Financials</td>\n      <td>Transaction &amp; Payment Processing Services</td>\n      <td>2024</td>\n      <td>149.080002</td>\n      <td>-0.000268</td>\n      <td>0</td>\n      <td>0.0</td>\n    </tr>\n    <tr>\n      <th>2742199</th>\n      <td>2024-07-01</td>\n      <td>149.550003</td>\n      <td>150.070007</td>\n      <td>147.050003</td>\n      <td>147.139999</td>\n      <td>147.139999</td>\n      <td>1572800</td>\n      <td>Financials</td>\n      <td>Transaction &amp; Payment Processing Services</td>\n      <td>2024</td>\n      <td>149.039993</td>\n      <td>-0.012748</td>\n      <td>0</td>\n      <td>1.0</td>\n    </tr>\n    <tr>\n      <th>2742200</th>\n      <td>2024-07-02</td>\n      <td>146.770004</td>\n      <td>149.460007</td>\n      <td>146.770004</td>\n      <td>149.389999</td>\n      <td>149.389999</td>\n      <td>1480400</td>\n      <td>Financials</td>\n      <td>Transaction &amp; Payment Processing Services</td>\n      <td>2024</td>\n      <td>147.139999</td>\n      <td>0.015292</td>\n      <td>1</td>\n      <td>0.0</td>\n    </tr>\n    <tr>\n      <th>2742201</th>\n      <td>2024-07-03</td>\n      <td>149.419998</td>\n      <td>149.970001</td>\n      <td>148.160004</td>\n      <td>148.789993</td>\n      <td>148.789993</td>\n      <td>1142600</td>\n      <td>Financials</td>\n      <td>Transaction &amp; Payment Processing Services</td>\n      <td>2024</td>\n      <td>149.389999</td>\n      <td>-0.004016</td>\n      <td>0</td>\n      <td>1.0</td>\n    </tr>\n    <tr>\n      <th>2742202</th>\n      <td>2024-07-05</td>\n      <td>149.080002</td>\n      <td>150.570007</td>\n      <td>148.130005</td>\n      <td>150.509995</td>\n      <td>150.509995</td>\n      <td>1684500</td>\n      <td>Financials</td>\n      <td>Transaction &amp; Payment Processing Services</td>\n      <td>2024</td>\n      <td>148.789993</td>\n      <td>0.011560</td>\n      <td>1</td>\n      <td>NaN</td>\n    </tr>\n  </tbody>\n</table>\n<p>2742203 rows × 14 columns</p>\n</div>"
     },
     "execution_count": 3,
     "metadata": {},
     "output_type": "execute_result"
    }
   ],
   "source": [
    "import os\n",
    "from glob import glob\n",
    "\n",
    "import pandas as pd\n",
    "dataset = os.getenv('PRICE_DATA')\n",
    "files = glob(dataset)\n",
    "data = [pd.read_parquet(f) for f in files]\n",
    "merged_data = pd.concat(data,ignore_index=True)\n",
    "# Write your code below.\n",
    "merged_data\n"
   ]
  },
  {
   "cell_type": "markdown",
   "metadata": {},
   "source": [
    "For each ticker and using Dask, do the following:\n",
    "\n",
    "+ Add lags for variables Close and Adj_Close.\n",
    "+ Add returns based on Adjusted Close:\n",
    "    \n",
    "    - `returns`: (Adj Close / Adj Close_lag) - 1\n",
    "\n",
    "+ Add the following range: \n",
    "\n",
    "    - `hi_lo_range`: this is the day's High minus Low.\n",
    "\n",
    "+ Assign the result to `dd_feat`.\n",
    "\n",
    "(4 pt)"
   ]
  },
  {
   "cell_type": "code",
   "execution_count": 4,
   "metadata": {
    "ExecuteTime": {
     "end_time": "2024-07-09T00:47:46.074138500Z",
     "start_time": "2024-07-09T00:47:43.812101800Z"
    }
   },
   "outputs": [],
   "source": [
    "# Write your code below.\n",
    "import dask.dataframe as dd\n",
    "# Add lag columns for Close and Adj_Close\n",
    "merged_data['Close_lag'] = merged_data['Close'].shift(1)\n",
    "merged_data['Adj_Close_lag'] = merged_data['Adj Close'].shift(1)\n",
    "merged_data['returns'] = (merged_data['Adj Close'] / merged_data['Adj_Close_lag']) - 1\n",
    "merged_data['hi_lo_range'] = merged_data['High'] - merged_data['Low']\n",
    "dd_feat = dd.from_pandas(merged_data)\n",
    "result=dd_feat.compute()\n",
    "\n"
   ]
  },
  {
   "cell_type": "markdown",
   "metadata": {},
   "source": [
    "+ Convert the Dask data frame to a pandas data frame. \n",
    "+ Add a rolling average return calculation with a window of 10 days.\n",
    "+ *Tip*: Consider using `.rolling(10).mean()`.\n",
    "\n",
    "(3 pt)"
   ]
  },
  {
   "cell_type": "code",
   "execution_count": 5,
   "metadata": {
    "ExecuteTime": {
     "end_time": "2024-07-09T00:47:46.149151300Z",
     "start_time": "2024-07-09T00:47:46.076138100Z"
    }
   },
   "outputs": [],
   "source": [
    "# Write your code below.\n",
    "del merged_data\n",
    "merged_data=pd.DataFrame(result)\n",
    "merged_data['rolling_avg_return'] = merged_data['returns'].rolling(window=10).mean().reset_index(level=0, drop=True)\n",
    "\n"
   ]
  },
  {
   "cell_type": "markdown",
   "metadata": {},
   "source": [
    "Please comment:\n",
    "\n",
    "+ Was it necessary to convert to pandas to calculate the moving average return?\n",
    "+ Would it have been better to do it in Dask? Why?\n",
    "* It was not necessary to convert to pandas here. \n",
    "* Directly using dask would have been better because we're dealing with data that's quite large ( 25k+ rows ) dask allows us to parallelize the computation and take advantage of better hardware,\n",
    "(1 pt)"
   ]
  },
  {
   "cell_type": "markdown",
   "metadata": {},
   "source": [
    "## Criteria\n",
    "\n",
    "|Criteria|Complete|Incomplete|\n",
    "|---------------------|----|----|\n",
    "|Calculations         |Calculations were done correctly.|Calculations were not done correctly.|\n",
    "|Explanation of answer|Answer was concise and explained the learner's reasoning in depth.|Answer was not concise and did not explained the learner's reasoning in depth.|"
   ]
  },
  {
   "cell_type": "markdown",
   "metadata": {},
   "source": [
    "## Submission Information\n",
    "\n",
    "🚨 **Please review our [Assignment Submission Guide](https://github.com/UofT-DSI/onboarding/blob/main/onboarding_documents/submissions.md)** 🚨 for detailed instructions on how to format, branch, and submit your work. Following these guidelines is crucial for your submissions to be evaluated correctly.\n",
    "\n",
    "### Submission Parameters:\n",
    "* Submission Due Date: `HH:MM AM/PM - DD/MM/YYYY`\n",
    "* The branch name for your repo should be: `assignment-1`\n",
    "* What to submit for this assignment:\n",
    "    * This Jupyter Notebook (assignment_1.ipynb) should be populated and should be the only change in your pull request.\n",
    "* What the pull request link should look like for this assignment: `https://github.com/<your_github_username>/production/pull/<pr_id>`\n",
    "    * Open a private window in your browser. Copy and paste the link to your pull request into the address bar. Make sure you can see your pull request properly. This helps the technical facilitator and learning support staff review your submission easily.\n",
    "\n",
    "Checklist:\n",
    "- [ ] Created a branch with the correct naming convention.\n",
    "- [ ] Ensured that the repository is public.\n",
    "- [ ] Reviewed the PR description guidelines and adhered to them.\n",
    "- [ ] Verify that the link is accessible in a private browser window.\n",
    "\n",
    "If you encounter any difficulties or have questions, please don't hesitate to reach out to our team via our Slack at `#cohort-3-help`. Our Technical Facilitators and Learning Support staff are here to help you navigate any challenges."
   ]
  }
 ],
 "metadata": {
  "kernelspec": {
   "display_name": "env",
   "language": "python",
   "name": "python3"
  },
  "language_info": {
   "codemirror_mode": {
    "name": "ipython",
    "version": 3
   },
   "file_extension": ".py",
   "mimetype": "text/x-python",
   "name": "python",
   "nbconvert_exporter": "python",
   "pygments_lexer": "ipython3",
   "version": "3.11.0"
  }
 },
 "nbformat": 4,
 "nbformat_minor": 2
}
